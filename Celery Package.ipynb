{
 "cells": [
  {
   "cell_type": "markdown",
   "metadata": {},
   "source": [
    "# Celery Package `hellocelery`"
   ]
  },
  {
   "cell_type": "code",
   "execution_count": 1,
   "metadata": {
    "collapsed": false
   },
   "outputs": [
    {
     "name": "stdout",
     "output_type": "stream",
     "text": [
      "Current hello_celery path: hellocelery.tasks.hello_celery\n"
     ]
    }
   ],
   "source": [
    "# [6] Now we are making an actual celery app\n",
    "# It is idential to 'Celery Basic App'\n",
    "# hellocelery/\n",
    "#      __init__.py\n",
    "#      config.py\n",
    "#      celery.py\n",
    "#      tasks.py\n",
    "# This should cover pretty much any project\n",
    "# Import module ensure that name does not contain __main__\n",
    "\n",
    "from hellocelery.tasks import hello_celery\n",
    "print('Current hello_celery path: %s' % hello_celery.name)"
   ]
  },
  {
   "cell_type": "code",
   "execution_count": 2,
   "metadata": {
    "collapsed": true
   },
   "outputs": [],
   "source": [
    "# Run async again this time with correct path name\n",
    "result = hello_celery.delay()"
   ]
  },
  {
   "cell_type": "code",
   "execution_count": 3,
   "metadata": {
    "collapsed": false
   },
   "outputs": [
    {
     "data": {
      "text/plain": [
       "'PENDING'"
      ]
     },
     "execution_count": 3,
     "metadata": {},
     "output_type": "execute_result"
    }
   ],
   "source": [
    "result.state"
   ]
  },
  {
   "cell_type": "code",
   "execution_count": 4,
   "metadata": {
    "collapsed": false
   },
   "outputs": [
    {
     "name": "stdout",
     "output_type": "stream",
     "text": [
      "\u001b[1;36m \n",
      " -------------- celery@2f8d2576f73a v3.1.23 (Cipater)\n",
      "---- **** ----- \n",
      "--- * ***  * -- Linux-4.4.0-36-generic-x86_64-with-debian-8.4\n",
      "-- * - **** --- \n",
      "- ** ---------- [config]\n",
      "- ** ---------- .> app:         __main__:0x7f330163c400\n",
      "- ** ---------- .> transport:   amqp://celery:**@172.17.0.1:5672/celerydemo\n",
      "- ** ---------- .> results:     postgresql://celery:**@172.17.0.1:5432/celerydemo\n",
      "- *** --- * --- .> concurrency: 4 (prefork)\n",
      "-- ******* ---- \n",
      "--- ***** ----- [queues]\n",
      " -------------- .> celery           exchange=celery(direct) key=celery\n",
      "                \n",
      "\u001b[0m\u001b[0m\n",
      "[tasks]\n",
      "  . hellocelery.tasks.hello_celery\n",
      "\u001b[0m\n",
      "[2016-09-01 03:14:23,590: INFO/MainProcess] Connected to amqp://celery:**@172.17.0.1:5672/celerydemo\n",
      "[2016-09-01 03:14:23,599: INFO/MainProcess] mingle: searching for neighbors\n",
      "[2016-09-01 03:14:24,607: INFO/MainProcess] mingle: all alone\n",
      "\u001b[1;33m[2016-09-01 03:14:24,625: WARNING/MainProcess] celery@2f8d2576f73a ready.\u001b[0m\n",
      "[2016-09-01 03:14:24,627: INFO/MainProcess] Received task: hellocelery.tasks.hello_celery[c4d33e01-2723-4298-8f8d-44680a30dd85]\n",
      "[2016-09-01 03:14:24,736: INFO/MainProcess] Task hellocelery.tasks.hello_celery[c4d33e01-2723-4298-8f8d-44680a30dd85] succeeded in 0.10825948400452035s: 'Hello Celery!'\n",
      "^C\n",
      "\n",
      "worker: Hitting Ctrl+C again will terminate all running tasks!\n",
      "\n",
      "worker: Warm shutdown (MainProcess)\n"
     ]
    }
   ],
   "source": [
    "# [7] Start a celery worker\n",
    "# use stop icon above to stop cell running\n",
    "! celery -A hellocelery worker -l info"
   ]
  },
  {
   "cell_type": "code",
   "execution_count": 5,
   "metadata": {
    "collapsed": false
   },
   "outputs": [
    {
     "name": "stdout",
     "output_type": "stream",
     "text": [
      "Status: SUCCESS Result: Hello Celery!\n"
     ]
    }
   ],
   "source": [
    "# [7] Check status of callback\n",
    "print('Status: %s Result: %s' % (result.status, result.result))"
   ]
  }
 ],
 "metadata": {
  "kernelspec": {
   "display_name": "Python 3",
   "language": "python",
   "name": "python3"
  },
  "language_info": {
   "codemirror_mode": {
    "name": "ipython",
    "version": 3
   },
   "file_extension": ".py",
   "mimetype": "text/x-python",
   "name": "python",
   "nbconvert_exporter": "python",
   "pygments_lexer": "ipython3",
   "version": "3.5.2"
  }
 },
 "nbformat": 4,
 "nbformat_minor": 0
}
