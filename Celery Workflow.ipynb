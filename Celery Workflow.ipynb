{
 "cells": [
  {
   "cell_type": "markdown",
   "metadata": {},
   "source": [
    "# Celery Workflow"
   ]
  },
  {
   "cell_type": "code",
   "execution_count": 1,
   "metadata": {
    "collapsed": false
   },
   "outputs": [
    {
     "name": "stdout",
     "output_type": "stream",
     "text": [
      "Type: <class 'celery.canvas.Signature'>\n",
      "Args: (1,) Kwargs: {'b': 4} Name: __main__.add_weird_task\n"
     ]
    }
   ],
   "source": [
    "# [8] Learning about Signatures\n",
    "from workflowcelery.celery import app\n",
    "\n",
    "@app.task\n",
    "def add_weird_task(a, b, c=5):\n",
    "    return a + b + c\n",
    "\n",
    "signature = add_weird_task.s(1, b=4) # .subtask equivalent\n",
    "print('Type: %s' % type(signature))\n",
    "print('Args: %s Kwargs: %s Name: %s' % (signature.args, signature.kwargs, signature.task))"
   ]
  },
  {
   "cell_type": "code",
   "execution_count": 2,
   "metadata": {
    "collapsed": false
   },
   "outputs": [
    {
     "data": {
      "text/plain": [
       "10"
      ]
     },
     "execution_count": 2,
     "metadata": {},
     "output_type": "execute_result"
    }
   ],
   "source": [
    "# Execute signature syncronously\n",
    "signature()"
   ]
  },
  {
   "cell_type": "markdown",
   "metadata": {},
   "source": [
    "# Creating Workfows from groups and chains\n",
    "Workflows are always asyncronous"
   ]
  },
  {
   "cell_type": "code",
   "execution_count": 3,
   "metadata": {
    "collapsed": false
   },
   "outputs": [
    {
     "data": {
      "text/plain": [
       "workflowcelery.tasks.add_task(1, 2, 3) | workflowcelery.tasks.multiply_task(2) | workflowcelery.tasks.add_task(10, 1)"
      ]
     },
     "execution_count": 3,
     "metadata": {},
     "output_type": "execute_result"
    }
   ],
   "source": [
    "from celery import chain\n",
    "from workflowcelery.tasks import add_task, multiply_task\n",
    "\n",
    "signature = chain(add_task.s(1, 2, 3), \n",
    "                  multiply_task.s(2),\n",
    "                  add_task.s(10, 1))\n",
    "signature\n",
    "\n"
   ]
  },
  {
   "cell_type": "code",
   "execution_count": 4,
   "metadata": {
    "collapsed": false
   },
   "outputs": [
    {
     "data": {
      "text/plain": [
       "workflowcelery.tasks.add_task(1, 2, 3) | workflowcelery.tasks.multiply_task(2) | workflowcelery.tasks.add_task(10, 1)"
      ]
     },
     "execution_count": 4,
     "metadata": {},
     "output_type": "execute_result"
    }
   ],
   "source": [
    "# Can be equivalently written as (no need to import chain)\n",
    "signature = add_task.s(1, 2, 3) | multiply_task.s(2) | add_task.s(10, 1)\n",
    "signature"
   ]
  },
  {
   "cell_type": "code",
   "execution_count": 5,
   "metadata": {
    "collapsed": false
   },
   "outputs": [],
   "source": [
    "result = signature()"
   ]
  },
  {
   "cell_type": "code",
   "execution_count": 6,
   "metadata": {
    "collapsed": false
   },
   "outputs": [
    {
     "data": {
      "text/plain": [
       "'PENDING'"
      ]
     },
     "execution_count": 6,
     "metadata": {},
     "output_type": "execute_result"
    }
   ],
   "source": [
    "result.status"
   ]
  },
  {
   "cell_type": "code",
   "execution_count": 7,
   "metadata": {
    "collapsed": false
   },
   "outputs": [
    {
     "name": "stdout",
     "output_type": "stream",
     "text": [
      "\u001b[1;36m \n",
      " -------------- celery@2f8d2576f73a v3.1.23 (Cipater)\n",
      "---- **** ----- \n",
      "--- * ***  * -- Linux-4.4.0-36-generic-x86_64-with-debian-8.4\n",
      "-- * - **** --- \n",
      "- ** ---------- [config]\n",
      "- ** ---------- .> app:         __main__:0x7f6e7d6ca400\n",
      "- ** ---------- .> transport:   amqp://celery:**@172.17.0.1:5672/celerydemo\n",
      "- ** ---------- .> results:     postgresql://celery:**@172.17.0.1:5432/celerydemo\n",
      "- *** --- * --- .> concurrency: 4 (prefork)\n",
      "-- ******* ---- \n",
      "--- ***** ----- [queues]\n",
      " -------------- .> celery           exchange=celery(direct) key=celery\n",
      "                \n",
      "\u001b[0m\u001b[0m\n",
      "[tasks]\n",
      "  . workflowcelery.tasks.add_group_task\n",
      "  . workflowcelery.tasks.add_task\n",
      "  . workflowcelery.tasks.multiply_task\n",
      "\u001b[0m\n",
      "[2016-09-01 03:16:07,885: INFO/MainProcess] Connected to amqp://celery:**@172.17.0.1:5672/celerydemo\n",
      "[2016-09-01 03:16:07,894: INFO/MainProcess] mingle: searching for neighbors\n",
      "[2016-09-01 03:16:08,903: INFO/MainProcess] mingle: all alone\n",
      "\u001b[1;33m[2016-09-01 03:16:08,923: WARNING/MainProcess] celery@2f8d2576f73a ready.\u001b[0m\n",
      "[2016-09-01 03:16:08,924: INFO/MainProcess] Received task: workflowcelery.tasks.add_task[556ca16b-4006-474f-bd11-3c022b82e9c5]\n",
      "[2016-09-01 03:16:08,954: INFO/MainProcess] Received task: workflowcelery.tasks.multiply_task[b38abef1-7b13-48d8-add2-d321fb1df01b]\n",
      "[2016-09-01 03:16:09,042: INFO/MainProcess] Task workflowcelery.tasks.add_task[556ca16b-4006-474f-bd11-3c022b82e9c5] succeeded in 0.11624415600090288s: 6\n",
      "[2016-09-01 03:16:09,067: INFO/MainProcess] Received task: workflowcelery.tasks.add_task[f1e06244-5ca7-4419-aa0c-3f604c9ad28f]\n",
      "[2016-09-01 03:16:09,142: INFO/MainProcess] Task workflowcelery.tasks.add_task[f1e06244-5ca7-4419-aa0c-3f604c9ad28f] succeeded in 0.07405994999862742s: 23\n",
      "[2016-09-01 03:16:09,150: INFO/MainProcess] Task workflowcelery.tasks.multiply_task[b38abef1-7b13-48d8-add2-d321fb1df01b] succeeded in 0.10758146100124577s: 12\n",
      "^C\n",
      "\n",
      "worker: Hitting Ctrl+C again will terminate all running tasks!\n",
      "\n",
      "worker: Warm shutdown (MainProcess)\n"
     ]
    }
   ],
   "source": [
    "# Start worker for task\n",
    "! celery -A workflowcelery worker -l info"
   ]
  },
  {
   "cell_type": "code",
   "execution_count": 8,
   "metadata": {
    "collapsed": false
   },
   "outputs": [
    {
     "name": "stdout",
     "output_type": "stream",
     "text": [
      "Result ((1+2+3) * 2) + 10 + 1 = 23, True\n"
     ]
    }
   ],
   "source": [
    "print('Result ((1+2+3) * 2) + 10 + 1 = %d, %s' % (result.result, result.result == ((1+2+3)*2+10+1)))"
   ]
  },
  {
   "cell_type": "markdown",
   "metadata": {},
   "source": [
    "# Groups\n",
    "Keep in mind that groups return a list of results"
   ]
  },
  {
   "cell_type": "code",
   "execution_count": 9,
   "metadata": {
    "collapsed": false
   },
   "outputs": [
    {
     "data": {
      "text/plain": [
       "workflowcelery.tasks.multiply_task(2, 4) | (workflowcelery.tasks.add_task(2), workflowcelery.tasks.multiply_task(2, 7)) | workflowcelery.tasks.add_group_task()"
      ]
     },
     "execution_count": 9,
     "metadata": {},
     "output_type": "execute_result"
    }
   ],
   "source": [
    "from celery import group\n",
    "from workflowcelery.tasks import add_group_task\n",
    "\n",
    "signature = chain(\n",
    "    multiply_task.s(2, 4), \n",
    "    group(\n",
    "        add_task.s(2),\n",
    "        multiply_task.s(2, 7)\n",
    "    ),\n",
    "    add_group_task.s()\n",
    ")\n",
    "\n",
    "signature"
   ]
  },
  {
   "cell_type": "code",
   "execution_count": 10,
   "metadata": {
    "collapsed": false
   },
   "outputs": [],
   "source": [
    "# Equivalently\n",
    "signature = multiply_task.s(2, 4) | group(add_task.s(2), multiply_task.s(2, 7)) | add_group_task.s()"
   ]
  },
  {
   "cell_type": "code",
   "execution_count": 11,
   "metadata": {
    "collapsed": true
   },
   "outputs": [],
   "source": [
    "result = signature()"
   ]
  },
  {
   "cell_type": "code",
   "execution_count": 12,
   "metadata": {
    "collapsed": false
   },
   "outputs": [
    {
     "data": {
      "text/plain": [
       "'PENDING'"
      ]
     },
     "execution_count": 12,
     "metadata": {},
     "output_type": "execute_result"
    }
   ],
   "source": [
    "result.status"
   ]
  },
  {
   "cell_type": "code",
   "execution_count": 13,
   "metadata": {
    "collapsed": false
   },
   "outputs": [
    {
     "name": "stdout",
     "output_type": "stream",
     "text": [
      "\u001b[1;36m \n",
      " -------------- celery@2f8d2576f73a v3.1.23 (Cipater)\n",
      "---- **** ----- \n",
      "--- * ***  * -- Linux-4.4.0-36-generic-x86_64-with-debian-8.4\n",
      "-- * - **** --- \n",
      "- ** ---------- [config]\n",
      "- ** ---------- .> app:         __main__:0x7fa5208f6400\n",
      "- ** ---------- .> transport:   amqp://celery:**@172.17.0.1:5672/celerydemo\n",
      "- ** ---------- .> results:     postgresql://celery:**@172.17.0.1:5432/celerydemo\n",
      "- *** --- * --- .> concurrency: 4 (prefork)\n",
      "-- ******* ---- \n",
      "--- ***** ----- [queues]\n",
      " -------------- .> celery           exchange=celery(direct) key=celery\n",
      "                \n",
      "\u001b[0m\u001b[0m\n",
      "[tasks]\n",
      "  . workflowcelery.tasks.add_group_task\n",
      "  . workflowcelery.tasks.add_task\n",
      "  . workflowcelery.tasks.multiply_task\n",
      "\u001b[0m\n",
      "[2016-09-01 03:16:36,407: INFO/MainProcess] Connected to amqp://celery:**@172.17.0.1:5672/celerydemo\n",
      "[2016-09-01 03:16:36,416: INFO/MainProcess] mingle: searching for neighbors\n",
      "[2016-09-01 03:16:37,424: INFO/MainProcess] mingle: all alone\n",
      "\u001b[1;33m[2016-09-01 03:16:37,443: WARNING/MainProcess] celery@2f8d2576f73a ready.\u001b[0m\n",
      "[2016-09-01 03:16:37,445: INFO/MainProcess] Received task: workflowcelery.tasks.multiply_task[b887b09e-25d9-4105-9ebd-bbe53d776814]\n",
      "[2016-09-01 03:16:37,475: INFO/MainProcess] Received task: workflowcelery.tasks.add_task[096b8db1-9738-42ef-a945-2e43deeebfd0]\n",
      "[2016-09-01 03:16:37,475: INFO/MainProcess] Received task: workflowcelery.tasks.multiply_task[0ab3d0fb-4376-4d28-85f9-3246d746175f]\n",
      "[2016-09-01 03:16:37,477: INFO/MainProcess] Received task: celery.chord_unlock[cc816896-cb68-49b2-a97f-6406a842c35e] eta:[2016-09-01 03:16:38.475685+00:00]\n",
      "[2016-09-01 03:16:37,678: INFO/MainProcess] Task workflowcelery.tasks.multiply_task[b887b09e-25d9-4105-9ebd-bbe53d776814] succeeded in 0.23119676500209607s: 8\n",
      "[2016-09-01 03:16:37,700: INFO/MainProcess] Task workflowcelery.tasks.add_task[096b8db1-9738-42ef-a945-2e43deeebfd0] succeeded in 0.22234602899698075s: 10\n",
      "[2016-09-01 03:16:37,700: INFO/MainProcess] Task workflowcelery.tasks.multiply_task[0ab3d0fb-4376-4d28-85f9-3246d746175f] succeeded in 0.22287122000125237s: 112\n",
      "[2016-09-01 03:16:39,571: INFO/MainProcess] Task celery.chord_unlock[cc816896-cb68-49b2-a97f-6406a842c35e] succeeded in 0.1251218770048581s: None\n",
      "[2016-09-01 03:16:39,571: INFO/MainProcess] Received task: workflowcelery.tasks.add_group_task[2f52d88e-4cf1-4b66-9fc2-e80bd9561e8b]\n",
      "[2016-09-01 03:16:39,608: INFO/MainProcess] Task workflowcelery.tasks.add_group_task[2f52d88e-4cf1-4b66-9fc2-e80bd9561e8b] succeeded in 0.03574664099869551s: 122\n",
      "^C\n",
      "\n",
      "worker: Hitting Ctrl+C again will terminate all running tasks!\n",
      "\n",
      "worker: Warm shutdown (MainProcess)\n"
     ]
    }
   ],
   "source": [
    "# Start worker for task\n",
    "! celery -A workflowcelery worker -l info"
   ]
  },
  {
   "cell_type": "code",
   "execution_count": 14,
   "metadata": {
    "collapsed": false
   },
   "outputs": [
    {
     "name": "stdout",
     "output_type": "stream",
     "text": [
      "Result ((2*4)+2) + ((2*4)*2*7)) = 122, True\n"
     ]
    }
   ],
   "source": [
    "print('Result ((2*4)+2) + ((2*4)*2*7)) = %d, %s' % (result.result, result.result == ((2*4)+2) + ((2*4)*2*7)))"
   ]
  },
  {
   "cell_type": "code",
   "execution_count": null,
   "metadata": {
    "collapsed": true
   },
   "outputs": [],
   "source": []
  }
 ],
 "metadata": {
  "kernelspec": {
   "display_name": "Python 3",
   "language": "python",
   "name": "python3"
  },
  "language_info": {
   "codemirror_mode": {
    "name": "ipython",
    "version": 3
   },
   "file_extension": ".py",
   "mimetype": "text/x-python",
   "name": "python",
   "nbconvert_exporter": "python",
   "pygments_lexer": "ipython3",
   "version": "3.5.2"
  }
 },
 "nbformat": 4,
 "nbformat_minor": 0
}
