{
 "cells": [
  {
   "cell_type": "markdown",
   "metadata": {},
   "source": [
    "# Celery Workflow"
   ]
  },
  {
   "cell_type": "code",
   "execution_count": 8,
   "metadata": {
    "collapsed": false
   },
   "outputs": [
    {
     "name": "stdout",
     "output_type": "stream",
     "text": [
      "Type: <class 'celery.canvas.Signature'>\n",
      "Args: (1,) Kwargs: {'b': 4} Name: __main__.add_weird_task\n"
     ]
    }
   ],
   "source": [
    "# [8] Learning about Signatures\n",
    "from workflowcelery.celery import app\n",
    "\n",
    "@app.task\n",
    "def add_weird_task(a, b, c=5):\n",
    "    return a + b + c\n",
    "\n",
    "signature = add_weird_task.s(1, b=4) # .subtask equivalent\n",
    "print('Type: %s' % type(signature))\n",
    "print('Args: %s Kwargs: %s Name: %s' % (signature.args, signature.kwargs, signature.task))"
   ]
  },
  {
   "cell_type": "code",
   "execution_count": 9,
   "metadata": {
    "collapsed": false
   },
   "outputs": [
    {
     "data": {
      "text/plain": [
       "10"
      ]
     },
     "execution_count": 9,
     "metadata": {},
     "output_type": "execute_result"
    }
   ],
   "source": [
    "# Execute signature syncronously\n",
    "signature()"
   ]
  },
  {
   "cell_type": "markdown",
   "metadata": {},
   "source": [
    "# Creating Workfows from groups and chains\n",
    "Workflows are always asyncronous"
   ]
  },
  {
   "cell_type": "code",
   "execution_count": 10,
   "metadata": {
    "collapsed": false
   },
   "outputs": [
    {
     "data": {
      "text/plain": [
       "workflowcelery.tasks.add_task(1, 2, 3) | workflowcelery.tasks.multiply_task(2) | workflowcelery.tasks.add_task(10, 1)"
      ]
     },
     "execution_count": 10,
     "metadata": {},
     "output_type": "execute_result"
    }
   ],
   "source": [
    "# [9] Chains\n",
    "from celery import chain\n",
    "from workflowcelery.tasks import add_task, multiply_task\n",
    "\n",
    "signature = chain(add_task.s(1, 2, 3), \n",
    "                  multiply_task.s(2),\n",
    "                  add_task.s(10, 1))\n",
    "signature\n",
    "\n"
   ]
  },
  {
   "cell_type": "code",
   "execution_count": 11,
   "metadata": {
    "collapsed": false
   },
   "outputs": [
    {
     "data": {
      "text/plain": [
       "workflowcelery.tasks.add_task(1, 2, 3) | workflowcelery.tasks.multiply_task(2) | workflowcelery.tasks.add_task(10, 1)"
      ]
     },
     "execution_count": 11,
     "metadata": {},
     "output_type": "execute_result"
    }
   ],
   "source": [
    "# Can be equivalently written as (no need to import chain)\n",
    "signature = add_task.s(1, 2, 3) | multiply_task.s(2) | add_task.s(10, 1)\n",
    "signature"
   ]
  },
  {
   "cell_type": "code",
   "execution_count": 12,
   "metadata": {
    "collapsed": false
   },
   "outputs": [],
   "source": [
    "result = signature()"
   ]
  },
  {
   "cell_type": "code",
   "execution_count": 13,
   "metadata": {
    "collapsed": false
   },
   "outputs": [
    {
     "data": {
      "text/plain": [
       "'PENDING'"
      ]
     },
     "execution_count": 13,
     "metadata": {},
     "output_type": "execute_result"
    }
   ],
   "source": [
    "result.status"
   ]
  },
  {
   "cell_type": "code",
   "execution_count": 14,
   "metadata": {
    "collapsed": false
   },
   "outputs": [
    {
     "name": "stdout",
     "output_type": "stream",
     "text": [
      "\u001b[1;36m \n",
      " -------------- celery@f181ffb567e8 v3.1.23 (Cipater)\n",
      "---- **** ----- \n",
      "--- * ***  * -- Linux-4.4.0-36-generic-x86_64-with-debian-8.4\n",
      "-- * - **** --- \n",
      "- ** ---------- [config]\n",
      "- ** ---------- .> app:         __main__:0x7f42cbadf400\n",
      "- ** ---------- .> transport:   amqp://celery:**@172.17.0.1:5672/celerydemo\n",
      "- ** ---------- .> results:     postgresql://celery:**@172.17.0.1:5432/celerydemo\n",
      "- *** --- * --- .> concurrency: 4 (prefork)\n",
      "-- ******* ---- \n",
      "--- ***** ----- [queues]\n",
      " -------------- .> celery           exchange=celery(direct) key=celery\n",
      "                \n",
      "\u001b[0m\u001b[0m\n",
      "[tasks]\n",
      "  . workflowcelery.tasks.add_group_task\n",
      "  . workflowcelery.tasks.add_task\n",
      "  . workflowcelery.tasks.multiply_task\n",
      "\u001b[0m\n",
      "[2016-09-01 15:46:02,933: INFO/MainProcess] Connected to amqp://celery:**@172.17.0.1:5672/celerydemo\n",
      "[2016-09-01 15:46:02,943: INFO/MainProcess] mingle: searching for neighbors\n",
      "[2016-09-01 15:46:03,951: INFO/MainProcess] mingle: all alone\n",
      "\u001b[1;33m[2016-09-01 15:46:03,970: WARNING/MainProcess] celery@f181ffb567e8 ready.\u001b[0m\n",
      "[2016-09-01 15:46:03,971: INFO/MainProcess] Received task: workflowcelery.tasks.add_task[37870d4c-eb38-4ccc-a06e-6160719bf128]\n",
      "[2016-09-01 15:46:04,000: INFO/MainProcess] Received task: workflowcelery.tasks.multiply_task[ebf4c651-bfdf-4805-85a6-6f5a0841a1b1]\n",
      "[2016-09-01 15:46:04,086: INFO/MainProcess] Task workflowcelery.tasks.add_task[37870d4c-eb38-4ccc-a06e-6160719bf128] succeeded in 0.11279460199875757s: 6\n",
      "[2016-09-01 15:46:04,105: INFO/MainProcess] Received task: workflowcelery.tasks.add_task[81af278d-175d-45b7-adef-0d4e6ef927fe]\n",
      "[2016-09-01 15:46:04,169: INFO/MainProcess] Task workflowcelery.tasks.multiply_task[ebf4c651-bfdf-4805-85a6-6f5a0841a1b1] succeeded in 0.08255167400056962s: 12\n",
      "[2016-09-01 15:46:04,177: INFO/MainProcess] Task workflowcelery.tasks.add_task[81af278d-175d-45b7-adef-0d4e6ef927fe] succeeded in 0.07141230400884524s: 23\n",
      "^C\n",
      "\n",
      "worker: Hitting Ctrl+C again will terminate all running tasks!\n",
      "\n",
      "worker: Warm shutdown (MainProcess)\n"
     ]
    }
   ],
   "source": [
    "# Start worker for task\n",
    "! celery -A workflowcelery worker -l info"
   ]
  },
  {
   "cell_type": "code",
   "execution_count": 15,
   "metadata": {
    "collapsed": false
   },
   "outputs": [
    {
     "name": "stdout",
     "output_type": "stream",
     "text": [
      "Result ((1+2+3) * 2) + 10 + 1 = 23, True\n"
     ]
    }
   ],
   "source": [
    "print('Result ((1+2+3) * 2) + 10 + 1 = %d, %s' % (result.result, result.result == ((1+2+3)*2+10+1)))"
   ]
  },
  {
   "cell_type": "markdown",
   "metadata": {},
   "source": [
    "# Groups\n",
    "Keep in mind that groups return a list of results"
   ]
  },
  {
   "cell_type": "code",
   "execution_count": 16,
   "metadata": {
    "collapsed": false
   },
   "outputs": [
    {
     "data": {
      "text/plain": [
       "workflowcelery.tasks.multiply_task(2, 4) | (workflowcelery.tasks.add_task(2), workflowcelery.tasks.multiply_task(2, 7)) | workflowcelery.tasks.add_group_task()"
      ]
     },
     "execution_count": 16,
     "metadata": {},
     "output_type": "execute_result"
    }
   ],
   "source": [
    "# [10] Chains\n",
    "from celery import group\n",
    "from workflowcelery.tasks import add_group_task\n",
    "\n",
    "signature = chain(\n",
    "    multiply_task.s(2, 4), \n",
    "    group(\n",
    "        add_task.s(2),\n",
    "        multiply_task.s(2, 7)\n",
    "    ),\n",
    "    add_group_task.s()\n",
    ")\n",
    "\n",
    "signature"
   ]
  },
  {
   "cell_type": "code",
   "execution_count": 17,
   "metadata": {
    "collapsed": false
   },
   "outputs": [],
   "source": [
    "# Equivalently\n",
    "signature = multiply_task.s(2, 4) | group(add_task.s(2), multiply_task.s(2, 7)) | add_group_task.s()"
   ]
  },
  {
   "cell_type": "code",
   "execution_count": 18,
   "metadata": {
    "collapsed": true
   },
   "outputs": [],
   "source": [
    "result = signature()"
   ]
  },
  {
   "cell_type": "code",
   "execution_count": 19,
   "metadata": {
    "collapsed": false
   },
   "outputs": [
    {
     "data": {
      "text/plain": [
       "'PENDING'"
      ]
     },
     "execution_count": 19,
     "metadata": {},
     "output_type": "execute_result"
    }
   ],
   "source": [
    "result.status"
   ]
  },
  {
   "cell_type": "code",
   "execution_count": 20,
   "metadata": {
    "collapsed": false
   },
   "outputs": [
    {
     "name": "stdout",
     "output_type": "stream",
     "text": [
      "\u001b[1;36m \n",
      " -------------- celery@f181ffb567e8 v3.1.23 (Cipater)\n",
      "---- **** ----- \n",
      "--- * ***  * -- Linux-4.4.0-36-generic-x86_64-with-debian-8.4\n",
      "-- * - **** --- \n",
      "- ** ---------- [config]\n",
      "- ** ---------- .> app:         __main__:0x7f0604d41400\n",
      "- ** ---------- .> transport:   amqp://celery:**@172.17.0.1:5672/celerydemo\n",
      "- ** ---------- .> results:     postgresql://celery:**@172.17.0.1:5432/celerydemo\n",
      "- *** --- * --- .> concurrency: 4 (prefork)\n",
      "-- ******* ---- \n",
      "--- ***** ----- [queues]\n",
      " -------------- .> celery           exchange=celery(direct) key=celery\n",
      "                \n",
      "\u001b[0m\u001b[0m\n",
      "[tasks]\n",
      "  . workflowcelery.tasks.add_group_task\n",
      "  . workflowcelery.tasks.add_task\n",
      "  . workflowcelery.tasks.multiply_task\n",
      "\u001b[0m\n",
      "[2016-09-01 15:46:19,792: INFO/MainProcess] Connected to amqp://celery:**@172.17.0.1:5672/celerydemo\n",
      "[2016-09-01 15:46:19,801: INFO/MainProcess] mingle: searching for neighbors\n",
      "[2016-09-01 15:46:20,809: INFO/MainProcess] mingle: all alone\n",
      "\u001b[1;33m[2016-09-01 15:46:20,832: WARNING/MainProcess] celery@f181ffb567e8 ready.\u001b[0m\n",
      "[2016-09-01 15:46:20,833: INFO/MainProcess] Received task: workflowcelery.tasks.multiply_task[922e5ce0-d6ba-4b53-8744-bca35e1f2c7f]\n",
      "[2016-09-01 15:46:20,863: INFO/MainProcess] Received task: workflowcelery.tasks.add_task[844eab03-4045-49ba-871f-0e99bdef3ab9]\n",
      "[2016-09-01 15:46:20,864: INFO/MainProcess] Received task: workflowcelery.tasks.multiply_task[ea504f3c-bf54-4dee-854e-25707f295a5f]\n",
      "[2016-09-01 15:46:20,865: INFO/MainProcess] Received task: celery.chord_unlock[e10d8cc9-986e-4cef-a604-6fed24fc913b] eta:[2016-09-01 15:46:21.863796+00:00]\n",
      "[2016-09-01 15:46:20,960: INFO/MainProcess] Task workflowcelery.tasks.multiply_task[922e5ce0-d6ba-4b53-8744-bca35e1f2c7f] succeeded in 0.12544801499461755s: 8\n",
      "[2016-09-01 15:46:20,968: INFO/MainProcess] Task workflowcelery.tasks.add_task[844eab03-4045-49ba-871f-0e99bdef3ab9] succeeded in 0.10255825700005516s: 10\n",
      "[2016-09-01 15:46:20,969: INFO/MainProcess] Task workflowcelery.tasks.multiply_task[ea504f3c-bf54-4dee-854e-25707f295a5f] succeeded in 0.10280018500634469s: 112\n",
      "[2016-09-01 15:46:22,953: INFO/MainProcess] Task celery.chord_unlock[e10d8cc9-986e-4cef-a604-6fed24fc913b] succeeded in 0.11878393399820197s: None\n",
      "[2016-09-01 15:46:22,953: INFO/MainProcess] Received task: workflowcelery.tasks.add_group_task[b6edaf20-9c16-4573-9fac-0917d15abc61]\n",
      "[2016-09-01 15:46:23,002: INFO/MainProcess] Task workflowcelery.tasks.add_group_task[b6edaf20-9c16-4573-9fac-0917d15abc61] succeeded in 0.047671939988504164s: 122\n",
      "^C\n",
      "\n",
      "worker: Hitting Ctrl+C again will terminate all running tasks!\n",
      "\n",
      "worker: Warm shutdown (MainProcess)\n"
     ]
    }
   ],
   "source": [
    "# Start worker for task\n",
    "! celery -A workflowcelery worker -l info"
   ]
  },
  {
   "cell_type": "code",
   "execution_count": 14,
   "metadata": {
    "collapsed": false
   },
   "outputs": [
    {
     "name": "stdout",
     "output_type": "stream",
     "text": [
      "Result ((2*4)+2) + ((2*4)*2*7)) = 122, True\n"
     ]
    }
   ],
   "source": [
    "print('Result ((2*4)+2) + ((2*4)*2*7)) = %d, %s' % (result.result, result.result == ((2*4)+2) + ((2*4)*2*7)))"
   ]
  }
 ],
 "metadata": {
  "kernelspec": {
   "display_name": "Python 3",
   "language": "python",
   "name": "python3"
  },
  "language_info": {
   "codemirror_mode": {
    "name": "ipython",
    "version": 3
   },
   "file_extension": ".py",
   "mimetype": "text/x-python",
   "name": "python",
   "nbconvert_exporter": "python",
   "pygments_lexer": "ipython3",
   "version": "3.5.2"
  }
 },
 "nbformat": 4,
 "nbformat_minor": 0
}
